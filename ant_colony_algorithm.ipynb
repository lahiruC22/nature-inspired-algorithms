{
  "nbformat": 4,
  "nbformat_minor": 0,
  "metadata": {
    "colab": {
      "provenance": [],
      "authorship_tag": "ABX9TyNR23GPgWT7gL3bKqhybT1L",
      "include_colab_link": true
    },
    "kernelspec": {
      "name": "python3",
      "display_name": "Python 3"
    },
    "language_info": {
      "name": "python"
    }
  },
  "cells": [
    {
      "cell_type": "markdown",
      "metadata": {
        "id": "view-in-github",
        "colab_type": "text"
      },
      "source": [
        "<a href=\"https://colab.research.google.com/github/lahiruC22/nature-inspired-algorithms/blob/main/ant_colony_algorithm.ipynb\" target=\"_parent\"><img src=\"https://colab.research.google.com/assets/colab-badge.svg\" alt=\"Open In Colab\"/></a>"
      ]
    },
    {
      "cell_type": "markdown",
      "source": [
        "# Ant Colony Optimization Algorithm for Traveling Salesman Problem."
      ],
      "metadata": {
        "id": "z2hjINIoZeOK"
      }
    },
    {
      "cell_type": "markdown",
      "source": [
        "## 1. Introduction\n",
        "\n",
        "### 1.1 Overview of Travelling Salesman Problem\n",
        "\n",
        "<p align=\"justify\"> The traveling salesman problem asks: \"Given a list of cities and the distances between each pair of cities, what is the shortest possible route that visits each city exactly once and returns to the origin city?\"</p>\n",
        "\n",
        "<p align=\"justify\">The TSP is the most iconic challenge in computational complexity theory. This problem is classified as an NP-hard problem in combinatorial optimization. This means TSP is a problem in the class of a computationally intense challenge where no known efficient algorithm can find an optimal solution for all cases ensuring the generalization of the problem. This computational complexity occurs because when the number of cities increases, the computational efforts required to solve the TSP grow exponentially, making exact solutions impractical for a large-scale instance. This complexity leads the TSP to become a benchmark for testing and developing a wide variety of new algorithms, specifically heuristics and metaheuristics approaches that prioritize near-optimal solutions within reasonable timeframes.</p>\n",
        "\n",
        "### 1.2 Introduction to Ant Colony Optimization Algorithm"
      ],
      "metadata": {
        "id": "xfOKAh8dk3n-"
      }
    },
    {
      "cell_type": "markdown",
      "source": [],
      "metadata": {
        "id": "TGJi7X8bLYKT"
      }
    }
  ]
}