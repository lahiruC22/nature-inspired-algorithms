{
  "nbformat": 4,
  "nbformat_minor": 0,
  "metadata": {
    "colab": {
      "provenance": [],
      "authorship_tag": "ABX9TyNPoPaK05QsWNviHg7w6SXX",
      "include_colab_link": true
    },
    "kernelspec": {
      "name": "python3",
      "display_name": "Python 3"
    },
    "language_info": {
      "name": "python"
    }
  },
  "cells": [
    {
      "cell_type": "markdown",
      "metadata": {
        "id": "view-in-github",
        "colab_type": "text"
      },
      "source": [
        "<a href=\"https://colab.research.google.com/github/lahiruC22/nature-inspired-algorithms/blob/main/ant_colony_algorithm.ipynb\" target=\"_parent\"><img src=\"https://colab.research.google.com/assets/colab-badge.svg\" alt=\"Open In Colab\"/></a>"
      ]
    },
    {
      "cell_type": "markdown",
      "source": [
        "# Ant Colony Optimization Algorithm for Traveling Salesman Problem."
      ],
      "metadata": {
        "id": "z2hjINIoZeOK"
      }
    },
    {
      "cell_type": "markdown",
      "source": [
        "## The Travelling Salesman Problem"
      ],
      "metadata": {
        "id": "xfOKAh8dk3n-"
      }
    },
    {
      "cell_type": "markdown",
      "source": [
        "## The ACO Algorithm for TSP Problem"
      ],
      "metadata": {
        "id": "4R1V0vKylGtU"
      }
    },
    {
      "cell_type": "markdown",
      "source": [
        "## Code Implementation"
      ],
      "metadata": {
        "id": "WpJ_0wzKbrFZ"
      }
    },
    {
      "cell_type": "markdown",
      "source": [
        "### Import Libraries"
      ],
      "metadata": {
        "id": "WDPgKIabb4wH"
      }
    },
    {
      "cell_type": "code",
      "execution_count": 8,
      "metadata": {
        "id": "KI_jBbLhWtdQ"
      },
      "outputs": [],
      "source": [
        "import numpy as np\n",
        "import matplotlib.pyplot as plt\n",
        "import seaborn as sns"
      ]
    },
    {
      "cell_type": "markdown",
      "source": [
        "### Define the TSP Problem"
      ],
      "metadata": {
        "id": "aMlRtfbAcRSg"
      }
    },
    {
      "cell_type": "code",
      "source": [
        "num_cities = 10\n",
        "np.random.seed(42)\n",
        "cities = np.random.rand(num_cities, 2)"
      ],
      "metadata": {
        "id": "HOG0rGwFcX4Q"
      },
      "execution_count": null,
      "outputs": []
    },
    {
      "cell_type": "code",
      "source": [
        "distance_matrix = np.zeros((num_cities, num_cities))\n",
        "\n",
        "for city in range(num_cities):\n",
        "  for other_city in range(num_cities):\n",
        "    print(\"TODO\") # This must be completed"
      ],
      "metadata": {
        "id": "ZaZVGHGbczcG"
      },
      "execution_count": null,
      "outputs": []
    },
    {
      "cell_type": "markdown",
      "source": [
        "### Initialize Parameters"
      ],
      "metadata": {
        "id": "eD1gsizEmhlu"
      }
    },
    {
      "cell_type": "code",
      "source": [
        "num_ants = 10\n",
        "num_iterations = 100\n",
        "evaporation_rate = 0.5\n",
        "alpha = 1\n",
        "beta = 2\n",
        "q = 1\n",
        "\n",
        "# TODO: Initialize the pheromone trails with equal values"
      ],
      "metadata": {
        "id": "TaJ_AeuKmfqy"
      },
      "execution_count": null,
      "outputs": []
    },
    {
      "cell_type": "code",
      "source": [],
      "metadata": {
        "id": "7UrGMduWm7Ie"
      },
      "execution_count": null,
      "outputs": []
    }
  ]
}