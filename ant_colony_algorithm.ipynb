{
  "nbformat": 4,
  "nbformat_minor": 0,
  "metadata": {
    "colab": {
      "provenance": [],
      "authorship_tag": "ABX9TyPml9XRIaZt6p6Dt30avIHM",
      "include_colab_link": true
    },
    "kernelspec": {
      "name": "python3",
      "display_name": "Python 3"
    },
    "language_info": {
      "name": "python"
    }
  },
  "cells": [
    {
      "cell_type": "markdown",
      "metadata": {
        "id": "view-in-github",
        "colab_type": "text"
      },
      "source": [
        "<a href=\"https://colab.research.google.com/github/lahiruC22/nature-inspired-algorithms/blob/main/ant_colony_algorithm.ipynb\" target=\"_parent\"><img src=\"https://colab.research.google.com/assets/colab-badge.svg\" alt=\"Open In Colab\"/></a>"
      ]
    },
    {
      "cell_type": "markdown",
      "source": [
        "# Ant Colony Optimization Algorithm for Traveling Salesman Problem."
      ],
      "metadata": {
        "id": "z2hjINIoZeOK"
      }
    },
    {
      "cell_type": "markdown",
      "source": [
        "## 1. Introduction\n",
        "\n",
        "### 1.1 Overview of Travelling Salesman Problem\n",
        "\n",
        "<p align=\"justify\"> The traveling salesman problem asks: \"Given a list of cities and the distances between each pair of cities, what is the shortest possible route that visits each city exactly once and returns to the origin city?\"</p>\n",
        "\n",
        "<p align=\"justify\">The TSP is the most iconic challenge in computational complexity theory. This problem is classified as an NP-hard problem in combinatorial optimization. This means TSP is a problem in the class of a computationally intense challenge where no known efficient algorithm can find an optimal solution for all cases ensuring the generalization of the problem. This computational complexity occurs because when the number of cities increases, the computational efforts required to solve the TSP grow exponentially, making exact solutions impractical for a large-scale instance. This complexity leads the TSP to become a benchmark for testing and developing a wide variety of new algorithms, specifically heuristics and metaheuristics approaches that prioritize near-optimal solutions within reasonable timeframes.</p>  \n",
        "\n",
        "### 1.2 Introduction to Ant Colony Optimization Algorithm\n",
        "<p align=\"justify\">Ant Colony Optimization is a nature-inspired metaheuristic algorithm that mimics the foraging behavior of real ants. Ants have the natural ability to find the shortest path between their nest and food sources. This ability provides a powerful framework for solving complex optimization problems like TSP which has the exact goal the natural ants have i.e. find the shortest route. In ACO, we simulate the ants' collaborative behavior to find the shortest route by leveraging stochastic decision-making, positive feedback, and self-organization. Like the natural ant system, the artificial ant system also balances the exploration of new solutions and exploitation of known good paths. This notebook explores the implementation of ACO to solve the most iconic traveling salesman problem. We focus on:</p>\n",
        "\n",
        "1. The core components of ACO\n",
        "2. Demonstrate how artificial ants construct solutions using pheromone trails and heuristic information.\n",
        "3. Visualize the evolution of solutions and pheromone dynamics.\n",
        "4. Analyze the impact of key parameters.\n",
        "\n",
        "\n",
        "By the end, you will understand how biological inspiration translates into a robust computational tool for tackling one of optimization’s most enduring challenges."
      ],
      "metadata": {
        "id": "xfOKAh8dk3n-"
      }
    },
    {
      "cell_type": "markdown",
      "source": [
        "## 2. Problem Setup\n",
        "\n",
        "### 2.1 Setting up the environment\n",
        "\n",
        "<p align=\"justify\">The following libraries are used to implement the ACO algorithm.</p>"
      ],
      "metadata": {
        "id": "TGJi7X8bLYKT"
      }
    },
    {
      "cell_type": "code",
      "source": [
        "import numpy as np\n",
        "import matplotlib.pyplot as plt"
      ],
      "metadata": {
        "id": "FrvNgH58ttJx"
      },
      "execution_count": 1,
      "outputs": []
    },
    {
      "cell_type": "markdown",
      "source": [
        "### 2.2 Formulation of the TSP\n",
        "<p align=\"justify\">The TSP Problem is defined by specifying the number of cities, defining their coordinates, calculating the distances, and visualizing the initial setup.</p>"
      ],
      "metadata": {
        "id": "KZTF3Xu2tlyg"
      }
    },
    {
      "cell_type": "code",
      "source": [
        "# Generate random cities\n",
        "n_cities = 10\n",
        "np.random.seed(42)\n",
        "cities = np.random.rand(n_cities,2)\n",
        "\n",
        "# Distance matrix (Euclidean distance)\n",
        "distances = np.zeros((n_cities, n_cities))\n",
        "for first_city in range(n_cities):\n",
        "    for second_city in range(n_cities):\n",
        "        distances[first_city,second_city] = np.linalg.norm(cities[first_city] - cities[second_city])\n",
        "\n",
        "# Plot initial cities\n",
        "plt.figure(figsize=(5,5))\n",
        "plt.scatter(cities[:,0], cities[:,1], color='red')\n",
        "plt.title(f'Random TSP with {n_cities} Cities')\n",
        "plt.show()"
      ],
      "metadata": {
        "colab": {
          "base_uri": "https://localhost:8080/",
          "height": 468
        },
        "id": "OpkINx9e5laP",
        "outputId": "8645b8f4-29d7-4584-d1e3-e869ef38dd6e"
      },
      "execution_count": 11,
      "outputs": [
        {
          "output_type": "display_data",
          "data": {
            "text/plain": [
              "<Figure size 500x500 with 1 Axes>"
            ],
            "image/png": "[encoded data removed]"
          },
          "metadata": {}
        }
      ]
    },
    {
      "cell_type": "markdown",
      "source": [
        "## 3. ACO Algorithm breakdown\n",
        "\n",
        "<p align=\"justify\">The following core concepts of ACO was inspired and translates from the biological ants. We will map these components to their role in solving Travelling Salesman Problem.</p>\n",
        "\n",
        "### 3.1 Key components of ACO algorithm\n",
        "* **Pheromone Trails** : Ants leave pheromones on the trails they follow. The more pheromones on a path, the more likely other ants are to follow it.  \n",
        "* **Heuristic Information**: Problem-specific knowledge. In TSP, this is typically the inverse of the distance between cities.\n",
        "* **Pheromone Evaporation**  \n",
        "\n",
        "### 3.2 Initialize parameters"
      ],
      "metadata": {
        "id": "W4cNpFCT0d5F"
      }
    },
    {
      "cell_type": "markdown",
      "source": [],
      "metadata": {
        "id": "W4jz_5oV19hL"
      }
    }
  ]
}